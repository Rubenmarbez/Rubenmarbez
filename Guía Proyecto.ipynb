{
 "cells": [
  {
   "cell_type": "code",
   "execution_count": 1,
   "metadata": {},
   "outputs": [],
   "source": [
    "import pandas as pd\n",
    "import numpy as np\n",
    "import matplotlib.pyplot as plt\n",
    "import seaborn as sb"
   ]
  },
  {
   "cell_type": "markdown",
   "metadata": {},
   "source": [
    "### Carga del Dataset"
   ]
  },
  {
   "cell_type": "code",
   "execution_count": null,
   "metadata": {},
   "outputs": [],
   "source": [
    "df = pd.read_csv('#Meter el Dataset.csv#')"
   ]
  },
  {
   "cell_type": "code",
   "execution_count": null,
   "metadata": {},
   "outputs": [],
   "source": [
    "# Con el .describe() devuelve \"count, mean, standard deviation, minimum, 25th percentile, median, 75th percentile, and maximum\"\n",
    "# De cada columna numérica en el DataFrame original\n",
    "df.describe() "
   ]
  },
  {
   "cell_type": "code",
   "execution_count": null,
   "metadata": {},
   "outputs": [],
   "source": [
    "# Con el .info() conseguimos un breve resumen del DataFrame al completo, que incluye el número de Nans en cada columna ==>\n",
    "# ==> El tipo de datos y la memoria que usa el DataFrame\n",
    "df.info()"
   ]
  },
  {
   "cell_type": "code",
   "execution_count": null,
   "metadata": {},
   "outputs": [],
   "source": [
    "# Sirve para hacer una copia del DataFrame original y poder cambiar cosas sin modificar el original\n",
    "df2 = df.copy()"
   ]
  },
  {
   "cell_type": "code",
   "execution_count": null,
   "metadata": {},
   "outputs": [],
   "source": [
    "# Sirve para graficar y poder hacernos una idea de la distribución de las variables (solo numéricas)\n",
    "df.plot()"
   ]
  },
  {
   "cell_type": "code",
   "execution_count": null,
   "metadata": {},
   "outputs": [],
   "source": [
    "# Sirve para elegir filas y columnas por su índice en el DataFrame\n",
    "df.iloc()"
   ]
  },
  {
   "cell_type": "code",
   "execution_count": null,
   "metadata": {},
   "outputs": [],
   "source": [
    "# Sirve para elegir filas y columnas por su etiquetado en el DataFrame\n",
    "df.loc()"
   ]
  },
  {
   "cell_type": "code",
   "execution_count": null,
   "metadata": {},
   "outputs": [],
   "source": [
    "# Sirve para hacer peticiones y filtrar datos en base a expresiones booleanas\n",
    "df.query(\"Cuenta < 30 AND Ranking > 30\")"
   ]
  },
  {
   "cell_type": "code",
   "execution_count": null,
   "metadata": {},
   "outputs": [],
   "source": [
    "# Sirve para ordenar valores o índices\n",
    "df.sort_values()\n",
    "df.sort_index()\n",
    "# Dentro del parentésis podemos poner una condición tipo: by=\"\"Nombre de la columna\", para ordenar por esa columna en concreto"
   ]
  },
  {
   "cell_type": "code",
   "execution_count": null,
   "metadata": {},
   "outputs": [],
   "source": [
    "# Sirve para seleccionar filas aleatorias del DataFrame(número de filas a devolver: \"n=10\")\n",
    "df.sample()"
   ]
  },
  {
   "cell_type": "code",
   "execution_count": null,
   "metadata": {},
   "outputs": [],
   "source": [
    "# Sirve para comprobar si los valores del DataFrame son Nans o no, devolviendo un DataFrame igual que el original\n",
    "# Pero solo con términos booleanos para saber si tienen o no\n",
    "df.isnull()"
   ]
  },
  {
   "cell_type": "code",
   "execution_count": null,
   "metadata": {},
   "outputs": [],
   "source": [
    "# Sirve para rellenar los valores perdidos del DataFrame\n",
    "df.fillna()\n",
    "\n",
    "# Tiene varias funciones diferentes:\n",
    "# Fill missing values with 0\n",
    "df.fillna(0)\n",
    "\n",
    "# Forward-fill missing values (propagates last valid observation forward to next)\n",
    "df.fillna(method='ffill')\n",
    "\n",
    "# Dackward-fill missing values (propagates next valid observation backward to last)\n",
    "df.fillna(method='bfill')\n",
    "\n",
    "# Fill missing values using interpolation\n",
    "df.interpolate()"
   ]
  },
  {
   "cell_type": "code",
   "execution_count": null,
   "metadata": {},
   "outputs": [],
   "source": [
    "# Sirve para quitar los missing values o los Nans de mi DataFrame\n",
    "df.dropna()"
   ]
  },
  {
   "cell_type": "code",
   "execution_count": null,
   "metadata": {},
   "outputs": [],
   "source": [
    "# Sirve para quitar filas o columnas especificando las etiquetas correspondientes\n",
    "df.drop() "
   ]
  },
  {
   "cell_type": "code",
   "execution_count": null,
   "metadata": {},
   "outputs": [],
   "source": [
    "# Sirve para agrupar filas en base a diferentes columnas (ya sea una o varias)\n",
    "df.groupby()"
   ]
  },
  {
   "cell_type": "code",
   "execution_count": null,
   "metadata": {},
   "outputs": [],
   "source": [
    "# Sirve para convertir las filas en columnas y las columnas en filas\n",
    "df.transpose()"
   ]
  },
  {
   "cell_type": "code",
   "execution_count": null,
   "metadata": {},
   "outputs": [],
   "source": [
    "# Sirve para unir dos DataFrames \n",
    "df.merge()"
   ]
  },
  {
   "cell_type": "code",
   "execution_count": null,
   "metadata": {},
   "outputs": [],
   "source": [
    "# Sirve para cambiar los nombres de una o varias columnas, o filas, del DataFrame\n",
    "df.rename(columns={'Nombre Original':'Nuevo nombre'})"
   ]
  },
  {
   "cell_type": "code",
   "execution_count": null,
   "metadata": {},
   "outputs": [],
   "source": [
    "# Sirve para cambiar el DataFrame a formato CSV\n",
    "df.to_csv('data.csv')\n",
    "# Con esto reemplazamos los missing values por un valor específico en el CSV\n",
    "df.to_csv('data.csv', na_rep='NULL')"
   ]
  },
  {
   "cell_type": "markdown",
   "metadata": {},
   "source": [
    "### Limpieza de datos - ¿Qué tenemos que hacer para limpiar nuestro Dataset?"
   ]
  },
  {
   "cell_type": "code",
   "execution_count": null,
   "metadata": {},
   "outputs": [],
   "source": []
  }
 ],
 "metadata": {
  "kernelspec": {
   "display_name": "base",
   "language": "python",
   "name": "python3"
  },
  "language_info": {
   "codemirror_mode": {
    "name": "ipython",
    "version": 3
   },
   "file_extension": ".py",
   "mimetype": "text/x-python",
   "name": "python",
   "nbconvert_exporter": "python",
   "pygments_lexer": "ipython3",
   "version": "3.11.4"
  }
 },
 "nbformat": 4,
 "nbformat_minor": 2
}
